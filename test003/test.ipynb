{
 "nbformat": 4,
 "nbformat_minor": 2,
 "metadata": {
  "language_info": {
   "name": "python",
   "codemirror_mode": {
    "name": "ipython",
    "version": 3
   },
   "version": "3.7.3-final"
  },
  "orig_nbformat": 2,
  "file_extension": ".py",
  "mimetype": "text/x-python",
  "name": "python",
  "npconvert_exporter": "python",
  "pygments_lexer": "ipython3",
  "version": 3,
  "kernelspec": {
   "name": "python37364bitvenvvirtualenv91905e4d322e4c769d2b1c2e301056d1",
   "display_name": "Python 3.7.3 64-bit ('venv': virtualenv)"
  }
 },
 "cells": [
  {
   "cell_type": "code",
   "execution_count": null,
   "metadata": {},
   "outputs": [],
   "source": [
    "class TestClass():\n",
    "    name: str\n",
    "\n",
    "    def __init__(self, name: str):\n",
    "        self.name = name\n",
    "\n",
    "    def __str__(self):\n",
    "        return \"Name in der Instanz der Klasse \\\"TestClass\\\" ist \" + self.name\n",
    "\n",
    "    def printClass(self) -> None:\n",
    "        print(\"Name: \" + self.name)\n",
    "\n",
    "    def addClass(self, op2: 'TestClass') -> 'TestClass':\n",
    "        self.name = self.name + \", \" + op2.name\n",
    "        toReturn: 'TestClass' = TestClass(self.name)\n",
    "        return toReturn"
   ]
  },
  {
   "cell_type": "code",
   "execution_count": null,
   "metadata": {},
   "outputs": [],
   "source": [
    "def testFuntion01(test: str) -> None:\n",
    "    print(test)\n",
    "\n",
    "testFuntion01(\"Das ist nur ein Test\")"
   ]
  },
  {
   "cell_type": "markdown",
   "metadata": {},
   "source": [
    "### Test\n",
    "* sollte jetzt Markdown sein"
   ]
  },
  {
   "cell_type": "code",
   "execution_count": null,
   "metadata": {},
   "outputs": [],
   "source": [
    "myTest01: TestClass = TestClass(\"kirill\")\n",
    "myTest01.printClass()\n",
    "check = myTest02 = TestClass(\"arnold\")\n",
    "print(\"INIT-Return: \" + str(myTest02))\n",
    "print(\"INIT-Return: \" + str(check))\n",
    "myTest02.printClass()\n",
    "myTest03: 'TestClass' = myTest01.addClass(myTest02)\n",
    "myTest03.printClass()\n",
    "#myTest03: TestClass = \"test\"\n",
    "myTest03.printClass()\n",
    "check.printClass()\n",
    "print(\"INIT-Return: \" + str(myTest03))\n",
    "print(\"INIT-Return: \" + str(check))"
   ]
  }
 ]
}