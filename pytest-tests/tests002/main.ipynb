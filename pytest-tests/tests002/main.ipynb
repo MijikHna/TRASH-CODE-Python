{
 "cells": [
  {
   "cell_type": "code",
   "execution_count": 1,
   "source": [
    "import psycopg2\n",
    "\n",
    "from datetime import datetime\n",
    "\n",
    "conn = psycopg2.connect(\n",
    "    host=\"localhost\",\n",
    "    port=\"5432\",\n",
    "    dbname=\"test_db\",\n",
    "    user=\"test_user\",\n",
    "    password=\"password\"\n",
    ")\n",
    "\n",
    "cur = conn.cursor()"
   ],
   "outputs": [],
   "metadata": {}
  },
  {
   "cell_type": "code",
   "execution_count": 2,
   "source": [
    "cur = conn.cursor()"
   ],
   "outputs": [],
   "metadata": {}
  },
  {
   "cell_type": "code",
   "execution_count": 3,
   "source": [
    "cars = [\n",
    "  {\n",
    "    'name': 'Car001',\n",
    "    'modified': datetime.now(),\n",
    "  },\n",
    "  {\n",
    "    'name': 'Car002',\n",
    "    'modified': datetime.now(),\n",
    "  },\n",
    "  {\n",
    "    'name': 'Car003',\n",
    "    'modified': datetime.now(),\n",
    "  },\n",
    "]\n",
    "\n",
    "query: str = 'insert into cars (internal_name, modified) values(%s, %s)'\n",
    "\n",
    "for car in cars:\n",
    "  cur.execute(query, (car['name'], car['modified']))\n",
    "\n"
   ],
   "outputs": [],
   "metadata": {}
  },
  {
   "cell_type": "code",
   "execution_count": 4,
   "source": [
    "query_select: str = \"select * from cars\"\n",
    "\n",
    "cur.execute(query_select)\n",
    "\n",
    "records = cur.fetchall()\n",
    "\n",
    "records"
   ],
   "outputs": [
    {
     "output_type": "execute_result",
     "data": {
      "text/plain": [
       "[(7, 'Car001', datetime.datetime(2021, 8, 7, 0, 46, 26, 599356), None, None),\n",
       " (8, 'Car002', datetime.datetime(2021, 8, 7, 0, 46, 26, 599366), None, None),\n",
       " (9, 'Car003', datetime.datetime(2021, 8, 7, 0, 46, 26, 599368), None, None)]"
      ]
     },
     "metadata": {},
     "execution_count": 4
    }
   ],
   "metadata": {}
  },
  {
   "cell_type": "code",
   "execution_count": 7,
   "source": [
    "print(f'Autocommit: {conn.autocommit}')\n",
    "\n",
    "update_car = (\"Car 10\", 6)\n",
    "\n",
    "query: str = 'update cars set internal_name = (%s) where id=(%s)'\n",
    "\n",
    "cur.execute(query=query, vars=update_car)\n",
    "\n",
    "cur.execute(query_select)\n",
    "\n",
    "records = cur.fetchall()\n",
    "records\n",
    "\n"
   ],
   "outputs": [
    {
     "output_type": "stream",
     "name": "stdout",
     "text": [
      "Autocommit: False\n"
     ]
    },
    {
     "output_type": "execute_result",
     "data": {
      "text/plain": [
       "[(7, 'Car001', datetime.datetime(2021, 8, 7, 0, 46, 26, 599356), None, None),\n",
       " (8, 'Car002', datetime.datetime(2021, 8, 7, 0, 46, 26, 599366), None, None),\n",
       " (9, 'Car003', datetime.datetime(2021, 8, 7, 0, 46, 26, 599368), None, None)]"
      ]
     },
     "metadata": {},
     "execution_count": 7
    }
   ],
   "metadata": {}
  },
  {
   "cell_type": "code",
   "execution_count": 6,
   "source": [
    "conn.autocommit"
   ],
   "outputs": [
    {
     "output_type": "execute_result",
     "data": {
      "text/plain": [
       "False"
      ]
     },
     "metadata": {},
     "execution_count": 6
    }
   ],
   "metadata": {}
  }
 ],
 "metadata": {
  "orig_nbformat": 4,
  "language_info": {
   "name": "python",
   "version": "3.9.2",
   "mimetype": "text/x-python",
   "codemirror_mode": {
    "name": "ipython",
    "version": 3
   },
   "pygments_lexer": "ipython3",
   "nbconvert_exporter": "python",
   "file_extension": ".py"
  },
  "kernelspec": {
   "name": "python3",
   "display_name": "Python 3.9.2 64-bit ('venv')"
  },
  "interpreter": {
   "hash": "dde3c44f0e52257546e04925986351e799a3bd666ab678fae2334ca1b618988c"
  }
 },
 "nbformat": 4,
 "nbformat_minor": 2
}